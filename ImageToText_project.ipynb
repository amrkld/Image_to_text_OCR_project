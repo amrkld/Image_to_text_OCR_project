{
 "cells": [
  {
   "cell_type": "code",
   "execution_count": 7,
   "metadata": {},
   "outputs": [],
   "source": [
    "from PIL import Image\n",
    "import cv2\n",
    "import pytesseract\n",
    "import numpy as np\n",
    "import tkinter as tk\n",
    "from tkinter import filedialog\n",
    "from tkinter import scrolledtext"
   ]
  },
  {
   "cell_type": "code",
   "execution_count": 8,
   "metadata": {},
   "outputs": [],
   "source": [
    "def preprocess_image(image_path):\n",
    "    # Read the image using PIL\n",
    "    image = Image.open(image_path)\n",
    "    \n",
    "    # Convert PIL Image to OpenCV format (numpy array)\n",
    "    cv_image = np.array(image)\n",
    "    \n",
    "    # Convert to grayscale\n",
    "    gray_image = cv2.cvtColor(cv_image, cv2.COLOR_BGR2GRAY)\n",
    "    \n",
    "    # Apply thresholding\n",
    "    _, thresh_image = cv2.threshold(gray_image, 128, 255, cv2.THRESH_BINARY_INV)\n",
    "    \n",
    "    # Optional: Denoise the image\n",
    "    denoised_image = cv2.fastNlMeansDenoising(thresh_image, None, 30, 7, 21)\n",
    "    \n",
    "    return denoised_image\n",
    "\n",
    "def extract_text_from_image(preprocessed_image):\n",
    "    # Use pytesseract to do OCR on the preprocessed image\n",
    "    text = pytesseract.image_to_string(preprocessed_image)\n",
    "    return text\n",
    "\n",
    "def process_image(image_path):\n",
    "    # Preprocess the image\n",
    "    preprocessed_image = preprocess_image(image_path)\n",
    "    \n",
    "    # Extract text from the preprocessed image\n",
    "    text = extract_text_from_image(preprocessed_image)\n",
    "    \n",
    "    return text\n",
    "\n",
    "def open_file():\n",
    "    # Open a file dialog to select an image file\n",
    "    file_path = filedialog.askopenfilename(filetypes=[(\"Image Files\", \"*.jpg;*.jpeg;*.png\")])\n",
    "    \n",
    "    if file_path:\n",
    "        # Process the selected image and get the text\n",
    "        extracted_text = process_image(file_path)\n",
    "        \n",
    "        # Display the extracted text in the text area\n",
    "        text_area.delete(1.0, tk.END)  # Clear previous text\n",
    "        text_area.insert(tk.END, extracted_text)"
   ]
  },
  {
   "cell_type": "code",
   "execution_count": 9,
   "metadata": {},
   "outputs": [],
   "source": [
    "# Create the main application window\n",
    "root = tk.Tk()\n",
    "root.title(\"OCR Text Extractor\")\n",
    "\n",
    "# Create a button to open the file dialog\n",
    "open_button = tk.Button(root, text=\"Open Image File\", command=open_file)\n",
    "open_button.pack(pady=10)\n",
    "\n",
    "# Create a scrolled text area to display the extracted text\n",
    "text_area = scrolledtext.ScrolledText(root, wrap=tk.WORD, width=80, height=20)\n",
    "text_area.pack(padx=10, pady=10)\n",
    "\n",
    "# Run the application\n",
    "root.mainloop()"
   ]
  },
  {
   "cell_type": "code",
   "execution_count": null,
   "metadata": {},
   "outputs": [],
   "source": []
  }
 ],
 "metadata": {
  "kernelspec": {
   "display_name": "Python 3",
   "language": "python",
   "name": "python3"
  },
  "language_info": {
   "codemirror_mode": {
    "name": "ipython",
    "version": 3
   },
   "file_extension": ".py",
   "mimetype": "text/x-python",
   "name": "python",
   "nbconvert_exporter": "python",
   "pygments_lexer": "ipython3",
   "version": "3.12.0"
  }
 },
 "nbformat": 4,
 "nbformat_minor": 2
}
