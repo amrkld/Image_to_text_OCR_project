{
 "cells": [
  {
   "cell_type": "code",
   "execution_count": 1,
   "metadata": {},
   "outputs": [],
   "source": [
    "import pytesseract\n",
    "from PIL import Image"
   ]
  },
  {
   "cell_type": "markdown",
   "metadata": {},
   "source": [
    "basic OCR"
   ]
  },
  {
   "cell_type": "code",
   "execution_count": 7,
   "metadata": {},
   "outputs": [
    {
     "name": "stdout",
     "output_type": "stream",
     "text": [
      "ANNA KARENINA 5\n",
      "\n",
      "“But then, while she was here in the house with us, I\n",
      "did not permit myself any liberties. And the worst of\n",
      "all is that she is already... All this must needs happen\n",
      "just to spite me. Ar! ar! ar! But what, what is to be\n",
      "done?”\n",
      "\n",
      "There was no answer except that common answer\n",
      "which life gives to all the most complicated and unsolva-\n",
      "ble questions, — this answer: You must live according\n",
      "to circumstances, in other words, forget yourself. But\n",
      "as you cannot forget yourself in sleep—at least till\n",
      "night, as you cannot return to that music which the\n",
      "water-bottle woman sang, therefore you must forget\n",
      "yourself in the dream of life!\n",
      "\n",
      "“We shali see by and by,” said Stepan Arkadyevitch\n",
      "to himself, and rising he put on his gray dressing-gown\n",
      "with blue silk lining, tied the tassels into a knot, and\n",
      "took a full breath into his ample lungs. Then with his\n",
      "usual firm step, his legs spread somewhat apart and\n",
      "easily bearing the solid weight of his body, he went\n",
      "over to the window, lifted the curtain, and loudly rang\n",
      "the bell. It was instantly answered by his old friend\n",
      "and valet Matve, who came in bringing ‘his clothes,\n",
      "boots, and a telegram. Behind Matve came the barber\n",
      "with the shaving utensils.\n",
      "\n",
      "“ Are there any papers from the court-house ?” asked\n",
      "Stepan Arkadyevitch, taking the telegram and taking\n",
      "his seat in front of the mirror.\n",
      "\n",
      "«.. “On the breakfast-table,” replied Matve, looking\n",
      "inquiringly and with sympathy at his master, and after\n",
      "an instant’s pause, added with a sly smile, “They have\n",
      "come from the boss of the livery-stable.”\n",
      "\n",
      "Stepan Arkadyevitch made no reply and only looked\n",
      "at Matve in the mirror. By the look which they inter-\n",
      "changed it could be seen how they understood each\n",
      "other. The look of Stepan Arkadyevitch seemed to\n",
      "ask, “Why did you say that? Don’t you know?”\n",
      "\n",
      "Matve thrust his hands in his jacket pockets, kicked\n",
      "out his leg, and silently, good-naturedly, almost smiling,\n",
      "looked back to his master : —\n",
      "\n",
      "“T ordered him to come on Sunday, and till then that\n",
      "\n"
     ]
    }
   ],
   "source": [
    "image_file = \"page_01.jpg\"\n",
    "img = Image.open(image_file)\n",
    "ocr_result = pytesseract.image_to_string(img)\n",
    "\n",
    "print(ocr_result)"
   ]
  },
  {
   "cell_type": "code",
   "execution_count": null,
   "metadata": {},
   "outputs": [],
   "source": []
  }
 ],
 "metadata": {
  "kernelspec": {
   "display_name": "Python 3",
   "language": "python",
   "name": "python3"
  },
  "language_info": {
   "codemirror_mode": {
    "name": "ipython",
    "version": 3
   },
   "file_extension": ".py",
   "mimetype": "text/x-python",
   "name": "python",
   "nbconvert_exporter": "python",
   "pygments_lexer": "ipython3",
   "version": "3.12.0"
  }
 },
 "nbformat": 4,
 "nbformat_minor": 2
}
